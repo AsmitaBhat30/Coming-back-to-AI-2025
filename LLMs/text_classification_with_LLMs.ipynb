{
  "nbformat": 4,
  "nbformat_minor": 0,
  "metadata": {
    "colab": {
      "provenance": [],
      "gpuType": "T4"
    },
    "kernelspec": {
      "name": "python3",
      "display_name": "Python 3"
    },
    "language_info": {
      "name": "python"
    },
    "accelerator": "GPU"
  },
  "cells": [
    {
      "cell_type": "code",
      "source": [
        "#from google.colab import userdata\n",
        "#userdata.get('hugging_face_llms')"
      ],
      "metadata": {
        "id": "8Z700ynFhEtm"
      },
      "execution_count": null,
      "outputs": []
    },
    {
      "cell_type": "code",
      "source": [
        "pip install -U datasets"
      ],
      "metadata": {
        "id": "bxDBD4FPi_ml"
      },
      "execution_count": null,
      "outputs": []
    },
    {
      "cell_type": "code",
      "source": [
        "from datasets import disable_caching\n",
        "disable_caching()"
      ],
      "metadata": {
        "id": "T47-59XZiLmE"
      },
      "execution_count": null,
      "outputs": []
    },
    {
      "cell_type": "code",
      "execution_count": null,
      "metadata": {
        "id": "S2WxoF06QV76"
      },
      "outputs": [],
      "source": [
        "from datasets import load_dataset"
      ]
    },
    {
      "cell_type": "code",
      "source": [
        "# load our data\n",
        "data = load_dataset(\"rotten_tomatoes\", revision=\"main\")\n",
        "data"
      ],
      "metadata": {
        "id": "1uCOOkg7g1wf"
      },
      "execution_count": null,
      "outputs": []
    },
    {
      "cell_type": "code",
      "source": [
        "from transformers import pipeline"
      ],
      "metadata": {
        "id": "ucgfhW_hhljh"
      },
      "execution_count": null,
      "outputs": []
    },
    {
      "cell_type": "code",
      "source": [
        "model_path = \"cardiffnlp/twitter-roberta-base-sentiment-latest\"\n",
        "\n",
        "# Load model into pipeline\n",
        "pipe = pipeline(\n",
        "    model=model_path,\n",
        "    tokenizer=model_path,\n",
        "    return_all_scores=True,\n",
        "    device=\"cuda:0\"\n",
        ")"
      ],
      "metadata": {
        "id": "JoFWOiyukDDu"
      },
      "execution_count": null,
      "outputs": []
    },
    {
      "cell_type": "code",
      "source": [
        "import numpy as np\n",
        "from tqdm import tqdm\n",
        "from transformers.pipelines.pt_utils import KeyDataset"
      ],
      "metadata": {
        "id": "R8tzP7Jromlm"
      },
      "execution_count": null,
      "outputs": []
    },
    {
      "cell_type": "code",
      "source": [
        "# Run inference\n",
        "\n",
        "y_pred = []\n",
        "for output in tqdm(pipe(KeyDataset(data[\"test\"], \"text\")), total=len(data[\"test\"])):\n",
        "    negative_score = output[0][\"score\"]\n",
        "    positive_score = output[2][\"score\"]\n",
        "    assignment = np.argmax([negative_score, positive_score])\n",
        "    y_pred.append(assignment)"
      ],
      "metadata": {
        "id": "HaKMtNMB_Cw1"
      },
      "execution_count": null,
      "outputs": []
    },
    {
      "cell_type": "code",
      "source": [
        "from sklearn.metrics import classification_report\n",
        "\n",
        "def evaluate_performance(y_true, y_pred):\n",
        "    performance = classification_report(y_true, y_pred, target_names=[\"negative review\", \"positive review\"])\n",
        "    print(performance)\n"
      ],
      "metadata": {
        "id": "A8WJGUnoBsn9"
      },
      "execution_count": null,
      "outputs": []
    },
    {
      "cell_type": "code",
      "source": [
        "evaluate_performance(data[\"test\"][\"label\"], y_pred)"
      ],
      "metadata": {
        "id": "fNdxkOmACbeG"
      },
      "execution_count": null,
      "outputs": []
    },
    {
      "cell_type": "markdown",
      "source": [
        "# Supervised Classification : Two-step classification with a feature extractor and a separate classifier"
      ],
      "metadata": {
        "id": "gCeEvxwXC3M4"
      }
    },
    {
      "cell_type": "code",
      "source": [
        "from sentence_transformers import SentenceTransformer"
      ],
      "metadata": {
        "id": "5THzG9VZCqwu"
      },
      "execution_count": null,
      "outputs": []
    },
    {
      "cell_type": "code",
      "source": [
        "# Load model\n",
        "model = SentenceTransformer(\"sentence-transformers/all-mpnet-base-v2\")\n",
        "\n",
        "# Convert text to embeddings\n",
        "# Convert numpy.int64 indices to standard Python integers before accessing the dataset\n",
        "train_embeddings = model.encode([data[\"train\"][\"text\"][int(i)] for i in range(len(data[\"train\"][\"text\"]))], show_progress_bar=True)\n",
        "test_embeddings = model.encode([data[\"test\"][\"text\"][int(i)] for i in range(len(data[\"test\"][\"text\"]))], show_progress_bar=True)\n",
        "\n",
        "train_embeddings.shape"
      ],
      "metadata": {
        "id": "yVn7CH2dDPjk"
      },
      "execution_count": null,
      "outputs": []
    },
    {
      "cell_type": "code",
      "source": [
        "from sklearn.linear_model import LogisticRegression"
      ],
      "metadata": {
        "id": "ApUD7v3cEIZ3"
      },
      "execution_count": null,
      "outputs": []
    },
    {
      "cell_type": "code",
      "source": [
        "# train our logistic regression model on train embeddings\n",
        "\n",
        "clf = LogisticRegression(random_state=42)\n",
        "clf.fit(train_embeddings, data[\"train\"][\"label\"])"
      ],
      "metadata": {
        "id": "vhdWFFlTEeLg"
      },
      "execution_count": null,
      "outputs": []
    },
    {
      "cell_type": "code",
      "source": [
        "# Predict previously unseen instances\n",
        "\n",
        "y_pred = clf.predict(test_embeddings)\n",
        "evaluate_performance(data[\"test\"][\"label\"], y_pred)"
      ],
      "metadata": {
        "id": "rPa0pMT0vlgp"
      },
      "execution_count": null,
      "outputs": []
    },
    {
      "cell_type": "markdown",
      "source": [
        "# Classification of Unlabeled Data"
      ],
      "metadata": {
        "id": "K35L57b-2UkR"
      }
    },
    {
      "cell_type": "code",
      "source": [
        "# Create embeddings for our labels\n",
        "label_embeddings = model.encode([\"A negative review\", \"A positive review\"])"
      ],
      "metadata": {
        "id": "4JllGD7MxBI1"
      },
      "execution_count": null,
      "outputs": []
    },
    {
      "cell_type": "code",
      "source": [
        "from sklearn.metrics.pairwise import cosine_similarity"
      ],
      "metadata": {
        "id": "GjyGZD2Z2b0j"
      },
      "execution_count": null,
      "outputs": []
    },
    {
      "cell_type": "code",
      "source": [
        "# Find the best matching label for each document\n",
        "sim_matrix = cosine_similarity(test_embeddings, label_embeddings)\n",
        "y_pred = np.argmax(sim_matrix, axis=1)"
      ],
      "metadata": {
        "id": "7kWmZBTI3Gh0"
      },
      "execution_count": null,
      "outputs": []
    },
    {
      "cell_type": "code",
      "source": [
        "evaluate_performance(data[\"test\"][\"label\"], y_pred)"
      ],
      "metadata": {
        "id": "_NqL3uC13e13"
      },
      "execution_count": null,
      "outputs": []
    },
    {
      "cell_type": "code",
      "source": [
        "# Load t5 model\n",
        "\n",
        "pipe = pipeline(\n",
        "    \"text2text-generation\",\n",
        "    model=\"google/flan-t5-base\",\n",
        "    device=\"cuda:0\"\n",
        ")"
      ],
      "metadata": {
        "id": "c-nvhNqQD5gR"
      },
      "execution_count": null,
      "outputs": []
    },
    {
      "cell_type": "code",
      "source": [
        "# Prepare our data\n",
        "\n",
        "prompt = \"Is the following sentence positive or negative?\"\n",
        "data = data.map(lambda example: {\"t5\": prompt + example[\"text\"]})\n",
        "data"
      ],
      "metadata": {
        "id": "Pn0Kuess4Tm_"
      },
      "execution_count": null,
      "outputs": []
    },
    {
      "cell_type": "code",
      "source": [
        "# Run inference\n",
        "\n",
        "y_pred = []\n",
        "for output in tqdm(pipe(KeyDataset(data[\"test\"], \"t5\")), total=len(data[\"test\"])):\n",
        "    text = output[0][\"generated_text\"]\n",
        "    if \"positive\" in text:\n",
        "        y_pred.append(1)\n",
        "    else:\n",
        "        y_pred.append(0)"
      ],
      "metadata": {
        "id": "3-2d6TpA6wfF"
      },
      "execution_count": null,
      "outputs": []
    },
    {
      "cell_type": "code",
      "source": [
        "evaluate_performance(data[\"test\"][\"label\"], y_pred)"
      ],
      "metadata": {
        "id": "oClSD01dDIn9"
      },
      "execution_count": null,
      "outputs": []
    },
    {
      "cell_type": "markdown",
      "source": [
        "# Text Classification for Unlabeled Movie Reviews using ChatGPT"
      ],
      "metadata": {
        "id": "2Z25V208FG5i"
      }
    },
    {
      "cell_type": "code",
      "source": [],
      "metadata": {
        "id": "KyC73vBeDp_f"
      },
      "execution_count": null,
      "outputs": []
    }
  ]
}